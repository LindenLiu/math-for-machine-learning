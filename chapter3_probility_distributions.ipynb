{
 "cells": [
  {
   "cell_type": "markdown",
   "metadata": {},
   "source": [
    "# Histgram"
   ]
  },
  {
   "cell_type": "code",
   "execution_count": 3,
   "metadata": {},
   "outputs": [
    {
     "data": {
      "text/plain": [
       "array([0.09959, 0.10097, 0.09809, 0.1026 , 0.10006, 0.10117, 0.10002,\n",
       "       0.10013, 0.09813, 0.09924])"
      ]
     },
     "execution_count": 3,
     "metadata": {},
     "output_type": "execute_result"
    }
   ],
   "source": [
    "import numpy as np\n",
    "\n",
    "# 1. Create a array of size 100000 with random integers from 0 to 9\n",
    "n = np.random.randint(0, 10, 100000)\n",
    "h = np.bincount(n)\n",
    "\n",
    "p_h = h / h.sum()\n",
    "p_h \n"
   ]
  },
  {
   "cell_type": "code",
   "execution_count": 8,
   "metadata": {},
   "outputs": [
    {
     "data": {
      "text/plain": [
       "array([0.16937, 0.35937, 0.3077 , 0.13255, 0.0285 , 0.00251])"
      ]
     },
     "execution_count": 8,
     "metadata": {},
     "output_type": "execute_result"
    }
   ],
   "source": [
    "# Binomial distribution\n",
    "# P(X=k) = C(k, n) * p^k * (1-p)^(n-k)\n",
    "# C(k, n) = n! / (k! * (n-k)!) which means the number of ways to choose k items from n items\n",
    "\n",
    "b = np.random.binomial(5, 0.3, 100000)\n",
    "s = np.bincount(b)\n",
    "s = s / s.sum()\n",
    "s"
   ]
  },
  {
   "cell_type": "code",
   "execution_count": 10,
   "metadata": {},
   "outputs": [
    {
     "name": "stdout",
     "output_type": "stream",
     "text": [
      "If p is .5, then the probability of getting 0 is 0.5000 and the probability of getting 1 is 0.5000\n",
      "If p is .3, then the probability of getting 0 is 0.6975 and the probability of getting 1 is 0.3025\n"
     ]
    }
   ],
   "source": [
    "# Bernoulli distribution\n",
    "# Bernoulli distribution is a special case of binomial distribution where n=1 (only one trial).\n",
    "# So for a probability p = 0.5, we can generate a bernoulli distribution as follows:\n",
    " \n",
    "b = np.random.binomial(1, 0.5, 100000)\n",
    "s = np.bincount(b)\n",
    "s = s / s.sum()\n",
    "print(f'If p is .5, then the probability of getting 0 is {s[0]:.4f} and the probability of getting 1 is {s[1]:.4f}')\n",
    "\n",
    "b = np.random.binomial(1, 0.3, 100000)\n",
    "s = np.bincount(b)\n",
    "s = s / s.sum()\n",
    "print(f'If p is .3, then the probability of getting 0 is {s[0]:.4f} and the probability of getting 1 is {s[1]:.4f}')"
   ]
  },
  {
   "cell_type": "code",
   "execution_count": null,
   "metadata": {},
   "outputs": [],
   "source": [
    "# Poisson distribution\n",
    "# Sometimes we don't know the probability of an event happaning for any given trial n. \n",
    "# But we know the average number of times it happens in a given interval, say of time. \n",
    "# If average number of the events happening over some time is lambda, \n",
    "# then the probability of k events happening in that time interval is given by:\n",
    "# P(X=k) = lambda^k * e^(-lambda) / k!"
   ]
  }
 ],
 "metadata": {
  "kernelspec": {
   "display_name": ".venv",
   "language": "python",
   "name": "python3"
  },
  "language_info": {
   "codemirror_mode": {
    "name": "ipython",
    "version": 3
   },
   "file_extension": ".py",
   "mimetype": "text/x-python",
   "name": "python",
   "nbconvert_exporter": "python",
   "pygments_lexer": "ipython3",
   "version": "3.9.6"
  }
 },
 "nbformat": 4,
 "nbformat_minor": 2
}
