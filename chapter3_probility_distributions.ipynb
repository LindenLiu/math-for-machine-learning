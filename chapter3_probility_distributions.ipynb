{
 "cells": [
  {
   "cell_type": "markdown",
   "metadata": {},
   "source": [
    "# Histgram"
   ]
  },
  {
   "cell_type": "code",
   "execution_count": null,
   "metadata": {},
   "outputs": [],
   "source": [
    "import numpy as np\n",
    "import matplotlib.pyplot as plt\n",
    "\n",
    "# 1. Create a array of size 100000 with random integers from 0 to 9\n",
    "n = np.random.randint(0, 10, 100000)\n",
    "h = np.bincount(n)\n",
    "\n",
    "p_h = h / h.sum()\n",
    "p_h \n"
   ]
  },
  {
   "cell_type": "code",
   "execution_count": null,
   "metadata": {},
   "outputs": [],
   "source": [
    "# Binomial distribution\n",
    "# P(X=k) = C(k, n) * p^k * (1-p)^(n-k)\n",
    "# C(k, n) = n! / (k! * (n-k)!) which means the number of ways to choose k items from n items\n",
    "\n",
    "b = np.random.binomial(5, 0.3, 100000)\n",
    "s = np.bincount(b)\n",
    "s = s / s.sum()\n",
    "s"
   ]
  },
  {
   "cell_type": "code",
   "execution_count": null,
   "metadata": {},
   "outputs": [],
   "source": [
    "# Bernoulli distribution\n",
    "# Bernoulli distribution is a special case of binomial distribution where n=1 (only one trial).\n",
    "# So for a probability p = 0.5, we can generate a bernoulli distribution as follows:\n",
    " \n",
    "b = np.random.binomial(1, 0.5, 100000)\n",
    "s = np.bincount(b)\n",
    "s = s / s.sum()\n",
    "print(f'If p is .5, then the probability of getting 0 is {s[0]:.4f} and the probability of getting 1 is {s[1]:.4f}')\n",
    "\n",
    "b = np.random.binomial(1, 0.3, 100000)\n",
    "s = np.bincount(b)\n",
    "s = s / s.sum()\n",
    "print(f'If p is .3, then the probability of getting 0 is {s[0]:.4f} and the probability of getting 1 is {s[1]:.4f}')"
   ]
  },
  {
   "cell_type": "markdown",
   "metadata": {},
   "source": [
    "# Poisson distribution\n",
    "Sometimes we don't know the probability of an event happaning for any given trial n. \n",
    "But we know the average number of times it happens in a given interval, say of time. \n",
    "If average number of the events happening over some time is lambda, \n",
    "then the probability of k events happening in that time interval is given by:\n",
    "\n",
    "P(X=k) = lambda^k * e^(-lambda) / k!"
   ]
  },
  {
   "cell_type": "code",
   "execution_count": null,
   "metadata": {},
   "outputs": [],
   "source": [
    "t = np.random.poisson(5, size=1000)\n",
    "p_d = np.bincount(t)\n",
    "print(t.max())\n",
    "print(p_d)\n",
    "print(p_d / p_d.sum())\n",
    "plt.plot(p_d)"
   ]
  },
  {
   "cell_type": "markdown",
   "metadata": {},
   "source": [
    "## Fast Loaded Dice Roller\n",
    "Used to Sample Integers according arbitary weights\n",
    "\n",
    "[github](https://github.com/probsys/fast-loaded-dice-roller)\n"
   ]
  },
  {
   "cell_type": "code",
   "execution_count": null,
   "metadata": {},
   "outputs": [],
   "source": [
    "from fldr import fldr_preprocess_float_c, fldr_sample\n",
    "\n",
    "x = fldr_preprocess_float_c([0.6, 0.2, 0.1, 0.1])\n",
    "s = [fldr_sample(x) for _ in range(1000)]\n",
    "s = np.bincount(s)\n",
    "print(s)\n",
    "\n",
    "from scipy.misc import face\n",
    "im = face(True)\n",
    "b = np.bincount(im.ravel(), minlength=256)\n",
    "b = b / b.sum()\n",
    "x = fldr_preprocess_float_c(list(b))\n",
    "q = [fldr_sample(x) for _ in range(25000)]\n",
    "q = np.bincount(q)\n",
    "q = q / q.sum()\n",
    "\n",
    "plt.plot(q)\n",
    "plt.plot(b, '--')\n",
    "plt.show()"
   ]
  }
 ],
 "metadata": {
  "kernelspec": {
   "display_name": ".venv",
   "language": "python",
   "name": "python3"
  },
  "language_info": {
   "codemirror_mode": {
    "name": "ipython",
    "version": 3
   },
   "file_extension": ".py",
   "mimetype": "text/x-python",
   "name": "python",
   "nbconvert_exporter": "python",
   "pygments_lexer": "ipython3",
   "version": "3.9.6"
  }
 },
 "nbformat": 4,
 "nbformat_minor": 2
}
