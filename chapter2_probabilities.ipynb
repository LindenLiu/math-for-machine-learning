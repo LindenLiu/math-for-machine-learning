{
 "cells": [
  {
   "attachments": {},
   "cell_type": "markdown",
   "metadata": {},
   "source": [
    "## Minimal number of people in a room needed to have > 50% chances that two people are the same birthday.\n",
    "A people has any day as birthday is 1/365, so two people has same brithday is 365* 1/365 * 1/365 = 1/365. (They can be in any of the 365 day, so there are 365 events). \n",
    "\n",
    "### Combinations \n",
    "C(m, k) = m!/(k! * (m-k)!) "
   ]
  },
  {
   "cell_type": "code",
   "execution_count": null,
   "metadata": {},
   "outputs": [],
   "source": [
    "import numpy as np\n",
    "import matplotlib.pyplot as plt\n",
    "\n",
    "def calculate_same_day_birth(people: int, epochs: int) -> float:\n",
    "    has_same_birthday = 0\n",
    "    for i in range(epochs):\n",
    "        birthdays = np.random.randint(365, size=people)\n",
    "        if len(birthdays) != len(set(birthdays)):\n",
    "            has_same_birthday += 1\n",
    "    \n",
    "    #print(f\"Probability of having same birthday: {has_same_birthday/epochs}\")\n",
    "    return has_same_birthday/epochs\n",
    "\n",
    "for people in range(2, 50):\n",
    "    probability = calculate_same_day_birth(people, 10000)\n",
    "    plt.scatter(people, probability, color='blue')"
   ]
  },
  {
   "attachments": {},
   "cell_type": "markdown",
   "metadata": {},
   "source": [
    "## Chain Rule:\n",
    "\n",
    "P(Xn, Xn-1, ..., X1) = P(Xn|Xn-1, Xn-2, ..., X1)*P(Xn-1, Xn-2, ..., X1) = P(Xn|Xn-1, Xn-2, ..., X1) * P(Xn-1|Xn-2, ..., X1) * ... * P(X2|X1) * P(X1).\n",
    "\n",
    "Example:\n",
    "There is 50 people in a party, 4 of them have gone to Boston. What's the probility of we pick 3 people those haven't been in Boston.\n",
    "\n",
    "P(A, B, C) = P(A|B, C)*P(B|C)*P(C) = (44/48)*(45/49)*(46/50) = 0.774"
   ]
  },
  {
   "cell_type": "code",
   "execution_count": null,
   "metadata": {},
   "outputs": [],
   "source": [
    "import numpy as np\n",
    "\n",
    "def porbability_of_boston_visitor(epochs: int) -> float:\n",
    "    none_in_boston = 0\n",
    "    for i in range(epochs):\n",
    "        people = np.random.randint(0, 50, 3)\n",
    "        \n",
    "        if len(np.where(people < 4)[0]) == 0:\n",
    "            none_in_boston += 1\n",
    "    return none_in_boston / epochs\n",
    "\n",
    "print(f\"The probability of 3 people have never been in Boston is {porbability_of_boston_visitor(1000000)}\")"
   ]
  }
 ],
 "metadata": {
  "kernelspec": {
   "display_name": ".venv",
   "language": "python",
   "name": "python3"
  },
  "language_info": {
   "codemirror_mode": {
    "name": "ipython",
    "version": 3
   },
   "file_extension": ".py",
   "mimetype": "text/x-python",
   "name": "python",
   "nbconvert_exporter": "python",
   "pygments_lexer": "ipython3",
   "version": "3.10.12 (main, Nov 20 2023, 15:14:05) [GCC 11.4.0]"
  },
  "orig_nbformat": 4,
  "vscode": {
   "interpreter": {
    "hash": "04940010dc41446b16a14c7d48a80fd1fef8f2789a4ce462235f4e4f11644987"
   }
  }
 },
 "nbformat": 4,
 "nbformat_minor": 2
}
