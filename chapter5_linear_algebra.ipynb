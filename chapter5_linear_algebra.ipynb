{
 "cells": [
  {
   "attachments": {},
   "cell_type": "markdown",
   "metadata": {},
   "source": [
    "1. Scalars: A *scalar* is just a number.\n",
    "2. Vectors: A *vector* is a 1-D array. Mathmatically, vectors are usually assumed to be *column vector*\n",
    "3. Matrices: A *matrix* is 2-D array of numbers.\n",
    "4. Tensors: A mathematical object with more than two dimensions is colloquially referred to as a *tensor*. The number of dimensions a tensor has defines its *order*.\n",
    "\n"
   ]
  },
  {
   "cell_type": "code",
   "execution_count": 2,
   "metadata": {},
   "outputs": [],
   "source": [
    "import numpy as np"
   ]
  },
  {
   "cell_type": "code",
   "execution_count": 3,
   "metadata": {},
   "outputs": [
    {
     "name": "stdout",
     "output_type": "stream",
     "text": [
      "[[[[[42]]]]]\n",
      "(1, 1, 1, 1, 1)\n",
      "[[1 2 3]\n",
      " [4 5 6]]\n",
      "(1, 2, 3, 1)\n",
      "[[[[1]\n",
      "   [2]\n",
      "   [3]]\n",
      "\n",
      "  [[4]\n",
      "   [5]\n",
      "   [6]]]]\n"
     ]
    }
   ],
   "source": [
    "## Any tensor of less than order n can be represented as an order-n tensor by supplying the missing dimensions of length 1.\n",
    "t = np.array(42).reshape((1, 1, 1, 1, 1))\n",
    "print(t)\n",
    "print(t.shape)\n",
    "\n",
    "# Or use newaxis,\n",
    "t = np.array([[1, 2, 3], [4, 5, 6]])\n",
    "print(t)\n",
    "w = t[np.newaxis, :, :, np.newaxis]\n",
    "print(w.shape)\n",
    "print(w)"
   ]
  },
  {
   "cell_type": "code",
   "execution_count": 8,
   "metadata": {},
   "outputs": [
    {
     "name": "stdout",
     "output_type": "stream",
     "text": [
      "[[ 8 10 12]\n",
      " [14 16 18]]\n",
      "[[-6 -6 -6]\n",
      " [-6 -6 -6]]\n",
      "[[ 7 16 27]\n",
      " [40 55 72]]\n",
      "[[0.14285714 0.25       0.33333333]\n",
      " [0.4        0.45454545 0.5       ]]\n",
      "[[  11  102 1003]\n",
      " [  14  105 1006]]\n",
      "[[  10  200 3000]\n",
      " [  40  500 6000]]\n",
      "[[0.1   0.02  0.003]\n",
      " [0.4   0.05  0.006]]\n",
      "[[10]\n",
      " [11]]\n",
      "[[11 12 13]\n",
      " [15 16 17]]\n"
     ]
    }
   ],
   "source": [
    "## Array Operations\n",
    "\n",
    "a = np.array([[1, 2, 3], [4, 5, 6]])\n",
    "b = np.array([[7, 8, 9], [10, 11, 12]])\n",
    "c = np.array([10, 100, 1000])\n",
    "d = np.array([10, 11])\n",
    "\n",
    "print(a + b)\n",
    "print(a - b)\n",
    "# Element-wise multiplication is often known as the Hadamard product\n",
    "# Numpy extends the idea of element-wise operations into what it calls broadcasting\n",
    "print(a * b)\n",
    "print(a / b)\n",
    "\n",
    "# Broadcasting\n",
    "print(a + c)\n",
    "print(c * a)\n",
    "print(a / c)\n",
    "\n",
    "e = d.reshape((2, 1))\n",
    "print(e)\n",
    "print(a+e)"
   ]
  },
  {
   "attachments": {},
   "cell_type": "markdown",
   "metadata": {},
   "source": [
    "## Vector Operations\n",
    "Magnitude: ||X|| = sqrt(x0 x x1 + x1 x x2, ... xn x xn)\n",
    "unit vector: v/||v||"
   ]
  },
  {
   "cell_type": "code",
   "execution_count": 7,
   "metadata": {},
   "outputs": [
    {
     "name": "stdout",
     "output_type": "stream",
     "text": [
      "[ 0.37139068 -0.55708601  0.74278135]\n",
      "[ 2 -3  4]\n",
      "32\n",
      "32\n",
      "0.9746318461970762\n",
      "12.933154491899135\n",
      "[1.66233766 2.07792208 2.49350649]\n",
      "[[ 4  5  6]\n",
      " [ 8 10 12]\n",
      " [12 15 18]]\n",
      "[ 4 10 18]\n"
     ]
    }
   ],
   "source": [
    "v = np.array((2, -3, 4))\n",
    "u = v / np.sqrt((v ** 2).sum())\n",
    "print(u)\n",
    "\n",
    "print(v)\n",
    "\n",
    "# Inner product (dot product)\n",
    "a = np.array([1, 2, 3])\n",
    "b = np.array([4, 5, 6])\n",
    "print(np.dot(a, b))\n",
    "print((a * b).sum())\n",
    "\n",
    "# Cosine \n",
    "cosangle = np.dot(a, b) / np.sqrt(np.dot(a, a) * np.dot(b, b))\n",
    "print(cosangle)\n",
    "# angle = arccos(cosangle)\n",
    "print(np.arccos(cosangle) * 180 / np.pi)\n",
    "\n",
    "# Project a to b \n",
    "print(np.dot(a, b) / np.dot(b, b) * b)\n",
    "\n",
    "# Outer product\n",
    "print(np.outer(a, b))\n"
   ]
  },
  {
   "attachments": {},
   "cell_type": "markdown",
   "metadata": {},
   "source": [
    "## The CARTESIAN PRODUCT\n",
    "\n",
    "The *Cartesian product* is a new set, each element of which is one of the possible pairings of elements from A and B. \n",
    "\n",
    "![Cartesian Product](chapter5/cartesian-product.png)\n",
    "\n",
    "## Cross Product \n",
    "This operator is only defined for 3D space. The cross product of *a* and *b* is a new vector that is perpendicular to the plane containing *a* and *b*. Note, this does not imply that *a* and *b* are themselves perpendicular. \n",
    "\n",
    "![Cross Product](chapter5/cross-product.png)"
   ]
  },
  {
   "cell_type": "code",
   "execution_count": 8,
   "metadata": {},
   "outputs": [
    {
     "name": "stdout",
     "output_type": "stream",
     "text": [
      "[0 0 1]\n",
      "[0 0 1]\n"
     ]
    }
   ],
   "source": [
    "a = np.array([1, 0, 0])\n",
    "b = np.array([0, 1, 0])\n",
    "print(np.cross(a, b))\n",
    "c = np.array([1, 1, 0])\n",
    "print(np.cross(a, c))"
   ]
  },
  {
   "attachments": {},
   "cell_type": "markdown",
   "metadata": {},
   "source": [
    "## Matrix Multiplication \n",
    "\n",
    "*(AB)C* = *A(BC)*\n",
    "\n",
    "*A(B + C)* = *AB* + *AC*\n",
    "\n",
    "*(A+B)C* = *AC* + *BC*\n",
    "\n",
    "*AB* <> *BA*\n",
    "\n",
    "### Kronecker Product\n",
    "![Kronecker Product](chapter5/kronecker-product.png) "
   ]
  },
  {
   "cell_type": "code",
   "execution_count": 11,
   "metadata": {},
   "outputs": [
    {
     "name": "stdout",
     "output_type": "stream",
     "text": [
      "14\n",
      "fails\n",
      "[14]\n",
      "[14]\n",
      "fails\n",
      "[[14]]\n",
      "fails\n",
      "[[1 2 3]\n",
      " [2 4 6]\n",
      " [3 6 9]]\n",
      "fails\n",
      "[14 32 50]\n",
      "fails\n",
      "[[14]\n",
      " [32]\n",
      " [50]]\n",
      "[30 36 42]\n",
      "[[30 36 42]]\n",
      "fails\n",
      "[[ 30  24  18]\n",
      " [ 84  69  54]\n",
      " [138 114  90]]\n",
      "[[ 9  8  7 18 16 14 27 24 21]\n",
      " [ 6  5  4 12 10  8 18 15 12]\n",
      " [ 3  2  1  6  4  2  9  6  3]\n",
      " [36 32 28 45 40 35 54 48 42]\n",
      " [24 20 16 30 25 20 36 30 24]\n",
      " [12  8  4 15 10  5 18 12  6]\n",
      " [63 56 49 72 64 56 81 72 63]\n",
      " [42 35 28 48 40 32 54 45 36]\n",
      " [21 14  7 24 16  8 27 18  9]]\n"
     ]
    }
   ],
   "source": [
    "a1 = np.array([1, 2, 3])\n",
    "ar = np.array([[1, 2, 3]])\n",
    "ac = np.array([[1], [2], [3]])\n",
    "b1 = np.array([1, 2, 3])\n",
    "br = np.array([[1, 2, 3]])\n",
    "bc = np.array([[1], [2], [3]])\n",
    "A = np.array([[1, 2, 3], [4, 5, 6], [7, 8, 9]])\n",
    "B = np.array([[9, 8, 7], [6, 5, 4], [3, 2, 1]])\n",
    "\n",
    "def dot(a, b):\n",
    "    try:\n",
    "        return np.dot(a, b)\n",
    "    except:\n",
    "        return \"fails\"\n",
    "\n",
    "print(dot(a1, b1))\n",
    "print(dot(a1, br))\n",
    "print(dot(a1, bc))\n",
    "print(dot(ar, b1))\n",
    "print(dot(ar, br))\n",
    "print(dot(ar, bc))\n",
    "print(dot(ac, b1))\n",
    "print(dot(ac, br))\n",
    "print(dot(ac, bc))\n",
    "print(dot(A, a1))\n",
    "print(dot(A, ar))\n",
    "print(dot(A, ac))\n",
    "print(dot(a1, A))\n",
    "print(dot(ar, A))\n",
    "print(dot(ac, A))\n",
    "print(dot(A, B))\n",
    "\n",
    "# Kronecker product\n",
    "print(np.kron(A, B))"
   ]
  }
 ],
 "metadata": {
  "kernelspec": {
   "display_name": ".venv",
   "language": "python",
   "name": "python3"
  },
  "language_info": {
   "codemirror_mode": {
    "name": "ipython",
    "version": 3
   },
   "file_extension": ".py",
   "mimetype": "text/x-python",
   "name": "python",
   "nbconvert_exporter": "python",
   "pygments_lexer": "ipython3",
   "version": "3.10.12"
  },
  "orig_nbformat": 4,
  "vscode": {
   "interpreter": {
    "hash": "04940010dc41446b16a14c7d48a80fd1fef8f2789a4ce462235f4e4f11644987"
   }
  }
 },
 "nbformat": 4,
 "nbformat_minor": 2
}
